{
 "cells": [
  {
   "cell_type": "markdown",
   "metadata": {},
   "source": [
    "##  Importowanie bibliotek i wczytanie ścieżek"
   ]
  },
  {
   "cell_type": "code",
   "execution_count": 16,
   "metadata": {},
   "outputs": [
    {
     "name": "stdout",
     "output_type": "stream",
     "text": [
      "Emotions: ['happy', 'sad', 'neutral', 'angry']\n"
     ]
    }
   ],
   "source": [
    "# Importowanie bibliotek\n",
    "import numpy as np\n",
    "import os\n",
    "import matplotlib.pyplot as plt\n",
    "from keras.preprocessing.image import load_img, img_to_array\n",
    "from keras.models import Sequential, load_model  # Dodano `load_model`\n",
    "from keras.layers import Conv2D, MaxPooling2D, Flatten, Dense\n",
    "from keras.optimizers import Adam\n",
    "from keras.utils import to_categorical\n",
    "import cv2\n",
    "\n",
    "# Ścieżki do folderów z danymi\n",
    "train_path = \"./images/train-kopia/\"\n",
    "val_path = \"./images/validation/\"\n",
    "\n",
    "# Rozmiar obrazów\n",
    "pic_size = 48\n",
    "\n",
    "# Lista emocji (kategorii)\n",
    "# Lista emocji (kategorii) - pominięcie pliku .DS_Store\n",
    "emotions = [folder for folder in os.listdir(train_path) if os.path.isdir(os.path.join(train_path, folder))]\n",
    "print(\"Emotions:\", emotions)\n"
   ]
  },
  {
   "cell_type": "markdown",
   "metadata": {},
   "source": [
    "## Przygotowanie danych treningowych i walidacyjnych"
   ]
  },
  {
   "cell_type": "code",
   "execution_count": 17,
   "metadata": {},
   "outputs": [],
   "source": [
    "# Przygotowanie danych treningowych\n",
    "train_data = []\n",
    "train_labels = []\n",
    "\n",
    "for emotion in emotions:\n",
    "    emotion_path = os.path.join(train_path, emotion)\n",
    "    if not os.path.isdir(emotion_path):\n",
    "        continue\n",
    "\n",
    "    for img_name in os.listdir(emotion_path):\n",
    "        if img_name == '.DS_Store':\n",
    "            continue\n",
    "\n",
    "        img_path = os.path.join(emotion_path, img_name)\n",
    "        img = load_img(img_path, target_size=(pic_size, pic_size), color_mode='grayscale')\n",
    "        img_array = img_to_array(img)\n",
    "        train_data.append(img_array)\n",
    "        train_labels.append(emotions.index(emotion))  # Przypisanie etykiety numerycznej\n",
    "\n",
    "# Przygotowanie danych walidacyjnych\n",
    "val_data = []\n",
    "val_labels = []\n",
    "\n",
    "for emotion in emotions:\n",
    "    emotion_path = os.path.join(val_path, emotion)\n",
    "    if not os.path.isdir(emotion_path):\n",
    "        continue\n",
    "\n",
    "    for img_name in os.listdir(emotion_path):\n",
    "        if img_name == '.DS_Store':\n",
    "            continue\n",
    "\n",
    "        img_path = os.path.join(emotion_path, img_name)\n",
    "        img = load_img(img_path, target_size=(pic_size, pic_size), color_mode='grayscale')\n",
    "        img_array = img_to_array(img)\n",
    "        val_data.append(img_array)\n",
    "        val_labels.append(emotions.index(emotion))  # Przypisanie etykiety numerycznej\n",
    "\n",
    "# Normalizacja danych\n",
    "train_data = np.array(train_data, dtype=\"float32\") / 255.0\n",
    "train_labels = np.array(train_labels)\n",
    "val_data = np.array(val_data, dtype=\"float32\") / 255.0\n",
    "val_labels = np.array(val_labels)\n",
    "\n",
    "# One-hot encoding etykiet\n",
    "train_labels = to_categorical(train_labels, len(emotions))\n",
    "val_labels = to_categorical(val_labels, len(emotions))"
   ]
  },
  {
   "cell_type": "markdown",
   "metadata": {},
   "source": [
    "## Tworzenie modelu i trenowanie"
   ]
  },
  {
   "cell_type": "code",
   "execution_count": 97,
   "metadata": {},
   "outputs": [
    {
     "name": "stdout",
     "output_type": "stream",
     "text": [
      "Epoch 1/30\n"
     ]
    },
    {
     "name": "stderr",
     "output_type": "stream",
     "text": [
      "/opt/anaconda3/lib/python3.12/site-packages/keras/src/layers/convolutional/base_conv.py:107: UserWarning: Do not pass an `input_shape`/`input_dim` argument to a layer. When using Sequential models, prefer using an `Input(shape)` object as the first layer in the model instead.\n",
      "  super().__init__(activity_regularizer=activity_regularizer, **kwargs)\n"
     ]
    },
    {
     "name": "stdout",
     "output_type": "stream",
     "text": [
      "\u001b[1m659/659\u001b[0m \u001b[32m━━━━━━━━━━━━━━━━━━━━\u001b[0m\u001b[37m\u001b[0m \u001b[1m18s\u001b[0m 27ms/step - accuracy: 0.2928 - loss: 1.9976 - val_accuracy: 0.3792 - val_loss: 1.4341\n",
      "Epoch 2/30\n",
      "\u001b[1m659/659\u001b[0m \u001b[32m━━━━━━━━━━━━━━━━━━━━\u001b[0m\u001b[37m\u001b[0m \u001b[1m18s\u001b[0m 27ms/step - accuracy: 0.3478 - loss: 1.3501 - val_accuracy: 0.4305 - val_loss: 1.2951\n",
      "Epoch 3/30\n",
      "\u001b[1m659/659\u001b[0m \u001b[32m━━━━━━━━━━━━━━━━━━━━\u001b[0m\u001b[37m\u001b[0m \u001b[1m17s\u001b[0m 26ms/step - accuracy: 0.3857 - loss: 1.3085 - val_accuracy: 0.4607 - val_loss: 1.2352\n",
      "Epoch 4/30\n",
      "\u001b[1m659/659\u001b[0m \u001b[32m━━━━━━━━━━━━━━━━━━━━\u001b[0m\u001b[37m\u001b[0m \u001b[1m18s\u001b[0m 27ms/step - accuracy: 0.4213 - loss: 1.2640 - val_accuracy: 0.4825 - val_loss: 1.2112\n",
      "Epoch 5/30\n",
      "\u001b[1m659/659\u001b[0m \u001b[32m━━━━━━━━━━━━━━━━━━━━\u001b[0m\u001b[37m\u001b[0m \u001b[1m18s\u001b[0m 27ms/step - accuracy: 0.4327 - loss: 1.2305 - val_accuracy: 0.4951 - val_loss: 1.1708\n",
      "Epoch 6/30\n",
      "\u001b[1m659/659\u001b[0m \u001b[32m━━━━━━━━━━━━━━━━━━━━\u001b[0m\u001b[37m\u001b[0m \u001b[1m18s\u001b[0m 27ms/step - accuracy: 0.4578 - loss: 1.2062 - val_accuracy: 0.5095 - val_loss: 1.1449\n",
      "Epoch 7/30\n",
      "\u001b[1m659/659\u001b[0m \u001b[32m━━━━━━━━━━━━━━━━━━━━\u001b[0m\u001b[37m\u001b[0m \u001b[1m18s\u001b[0m 27ms/step - accuracy: 0.4702 - loss: 1.1768 - val_accuracy: 0.5294 - val_loss: 1.0937\n",
      "Epoch 8/30\n",
      "\u001b[1m659/659\u001b[0m \u001b[32m━━━━━━━━━━━━━━━━━━━━\u001b[0m\u001b[37m\u001b[0m \u001b[1m17s\u001b[0m 26ms/step - accuracy: 0.4817 - loss: 1.1572 - val_accuracy: 0.5397 - val_loss: 1.0728\n",
      "Epoch 9/30\n",
      "\u001b[1m659/659\u001b[0m \u001b[32m━━━━━━━━━━━━━━━━━━━━\u001b[0m\u001b[37m\u001b[0m \u001b[1m18s\u001b[0m 27ms/step - accuracy: 0.4919 - loss: 1.1325 - val_accuracy: 0.5477 - val_loss: 1.0642\n",
      "Epoch 10/30\n",
      "\u001b[1m659/659\u001b[0m \u001b[32m━━━━━━━━━━━━━━━━━━━━\u001b[0m\u001b[37m\u001b[0m \u001b[1m18s\u001b[0m 27ms/step - accuracy: 0.5061 - loss: 1.1131 - val_accuracy: 0.5558 - val_loss: 1.0471\n",
      "Epoch 11/30\n",
      "\u001b[1m659/659\u001b[0m \u001b[32m━━━━━━━━━━━━━━━━━━━━\u001b[0m\u001b[37m\u001b[0m \u001b[1m17s\u001b[0m 27ms/step - accuracy: 0.5207 - loss: 1.0909 - val_accuracy: 0.5673 - val_loss: 1.0170\n",
      "Epoch 12/30\n",
      "\u001b[1m659/659\u001b[0m \u001b[32m━━━━━━━━━━━━━━━━━━━━\u001b[0m\u001b[37m\u001b[0m \u001b[1m17s\u001b[0m 26ms/step - accuracy: 0.5219 - loss: 1.0748 - val_accuracy: 0.5805 - val_loss: 1.0136\n",
      "Epoch 13/30\n",
      "\u001b[1m659/659\u001b[0m \u001b[32m━━━━━━━━━━━━━━━━━━━━\u001b[0m\u001b[37m\u001b[0m \u001b[1m18s\u001b[0m 27ms/step - accuracy: 0.5329 - loss: 1.0595 - val_accuracy: 0.5846 - val_loss: 0.9908\n",
      "Epoch 14/30\n",
      "\u001b[1m659/659\u001b[0m \u001b[32m━━━━━━━━━━━━━━━━━━━━\u001b[0m\u001b[37m\u001b[0m \u001b[1m17s\u001b[0m 25ms/step - accuracy: 0.5549 - loss: 1.0337 - val_accuracy: 0.5848 - val_loss: 0.9885\n",
      "Epoch 15/30\n",
      "\u001b[1m659/659\u001b[0m \u001b[32m━━━━━━━━━━━━━━━━━━━━\u001b[0m\u001b[37m\u001b[0m \u001b[1m17s\u001b[0m 25ms/step - accuracy: 0.5543 - loss: 1.0263 - val_accuracy: 0.5971 - val_loss: 0.9563\n",
      "Epoch 16/30\n",
      "\u001b[1m659/659\u001b[0m \u001b[32m━━━━━━━━━━━━━━━━━━━━\u001b[0m\u001b[37m\u001b[0m \u001b[1m16s\u001b[0m 25ms/step - accuracy: 0.5649 - loss: 1.0012 - val_accuracy: 0.5957 - val_loss: 0.9591\n",
      "Epoch 17/30\n",
      "\u001b[1m659/659\u001b[0m \u001b[32m━━━━━━━━━━━━━━━━━━━━\u001b[0m\u001b[37m\u001b[0m \u001b[1m17s\u001b[0m 26ms/step - accuracy: 0.5678 - loss: 0.9945 - val_accuracy: 0.6101 - val_loss: 0.9436\n",
      "Epoch 18/30\n",
      "\u001b[1m659/659\u001b[0m \u001b[32m━━━━━━━━━━━━━━━━━━━━\u001b[0m\u001b[37m\u001b[0m \u001b[1m17s\u001b[0m 25ms/step - accuracy: 0.5774 - loss: 0.9859 - val_accuracy: 0.6097 - val_loss: 0.9316\n",
      "Epoch 19/30\n",
      "\u001b[1m659/659\u001b[0m \u001b[32m━━━━━━━━━━━━━━━━━━━━\u001b[0m\u001b[37m\u001b[0m \u001b[1m18s\u001b[0m 27ms/step - accuracy: 0.5824 - loss: 0.9728 - val_accuracy: 0.6204 - val_loss: 0.9110\n",
      "Epoch 20/30\n",
      "\u001b[1m659/659\u001b[0m \u001b[32m━━━━━━━━━━━━━━━━━━━━\u001b[0m\u001b[37m\u001b[0m \u001b[1m17s\u001b[0m 26ms/step - accuracy: 0.5863 - loss: 0.9580 - val_accuracy: 0.6202 - val_loss: 0.9337\n",
      "Epoch 21/30\n",
      "\u001b[1m659/659\u001b[0m \u001b[32m━━━━━━━━━━━━━━━━━━━━\u001b[0m\u001b[37m\u001b[0m \u001b[1m18s\u001b[0m 27ms/step - accuracy: 0.5986 - loss: 0.9380 - val_accuracy: 0.6317 - val_loss: 0.9070\n",
      "Epoch 22/30\n",
      "\u001b[1m659/659\u001b[0m \u001b[32m━━━━━━━━━━━━━━━━━━━━\u001b[0m\u001b[37m\u001b[0m \u001b[1m18s\u001b[0m 27ms/step - accuracy: 0.6009 - loss: 0.9390 - val_accuracy: 0.6284 - val_loss: 0.9059\n",
      "Epoch 23/30\n",
      "\u001b[1m659/659\u001b[0m \u001b[32m━━━━━━━━━━━━━━━━━━━━\u001b[0m\u001b[37m\u001b[0m \u001b[1m17s\u001b[0m 25ms/step - accuracy: 0.6043 - loss: 0.9215 - val_accuracy: 0.6352 - val_loss: 0.9016\n",
      "Epoch 24/30\n",
      "\u001b[1m659/659\u001b[0m \u001b[32m━━━━━━━━━━━━━━━━━━━━\u001b[0m\u001b[37m\u001b[0m \u001b[1m18s\u001b[0m 27ms/step - accuracy: 0.6106 - loss: 0.9141 - val_accuracy: 0.6393 - val_loss: 0.8874\n",
      "Epoch 25/30\n",
      "\u001b[1m659/659\u001b[0m \u001b[32m━━━━━━━━━━━━━━━━━━━━\u001b[0m\u001b[37m\u001b[0m \u001b[1m17s\u001b[0m 26ms/step - accuracy: 0.6136 - loss: 0.9065 - val_accuracy: 0.6377 - val_loss: 0.8741\n",
      "Epoch 26/30\n",
      "\u001b[1m659/659\u001b[0m \u001b[32m━━━━━━━━━━━━━━━━━━━━\u001b[0m\u001b[37m\u001b[0m \u001b[1m17s\u001b[0m 26ms/step - accuracy: 0.6191 - loss: 0.8895 - val_accuracy: 0.6412 - val_loss: 0.8875\n",
      "Epoch 27/30\n",
      "\u001b[1m659/659\u001b[0m \u001b[32m━━━━━━━━━━━━━━━━━━━━\u001b[0m\u001b[37m\u001b[0m \u001b[1m17s\u001b[0m 26ms/step - accuracy: 0.6194 - loss: 0.8965 - val_accuracy: 0.6512 - val_loss: 0.8663\n",
      "Epoch 28/30\n",
      "\u001b[1m659/659\u001b[0m \u001b[32m━━━━━━━━━━━━━━━━━━━━\u001b[0m\u001b[37m\u001b[0m \u001b[1m17s\u001b[0m 26ms/step - accuracy: 0.6359 - loss: 0.8682 - val_accuracy: 0.6547 - val_loss: 0.8601\n",
      "Epoch 29/30\n",
      "\u001b[1m659/659\u001b[0m \u001b[32m━━━━━━━━━━━━━━━━━━━━\u001b[0m\u001b[37m\u001b[0m \u001b[1m16s\u001b[0m 25ms/step - accuracy: 0.6416 - loss: 0.8551 - val_accuracy: 0.6492 - val_loss: 0.8692\n",
      "Epoch 30/30\n",
      "\u001b[1m659/659\u001b[0m \u001b[32m━━━━━━━━━━━━━━━━━━━━\u001b[0m\u001b[37m\u001b[0m \u001b[1m18s\u001b[0m 27ms/step - accuracy: 0.6459 - loss: 0.8406 - val_accuracy: 0.6574 - val_loss: 0.8562\n",
      "\u001b[1m161/161\u001b[0m \u001b[32m━━━━━━━━━━━━━━━━━━━━\u001b[0m\u001b[37m\u001b[0m \u001b[1m1s\u001b[0m 6ms/step - accuracy: 0.7693 - loss: 0.5979\n",
      "Validation Loss: 0.8561688661575317\n",
      "Validation Accuracy: 0.6573929786682129\n"
     ]
    }
   ],
   "source": [
    "from keras.models import Sequential\n",
    "from keras.layers import Conv2D, MaxPooling2D, Flatten, Dense, Dropout, BatchNormalization\n",
    "from keras.optimizers import Adam\n",
    "\n",
    "model = Sequential()\n",
    "\n",
    "# Warstwy konwolucyjne z BatchNormalization i Dropout\n",
    "model.add(Conv2D(32, (3, 3), activation='relu', input_shape=(pic_size, pic_size, 1)))\n",
    "model.add(BatchNormalization())\n",
    "model.add(MaxPooling2D(pool_size=(2, 2)))\n",
    "model.add(Dropout(0.25))\n",
    "\n",
    "model.add(Conv2D(64, (3, 3), activation='relu'))\n",
    "model.add(BatchNormalization())\n",
    "model.add(MaxPooling2D(pool_size=(2, 2)))\n",
    "model.add(Dropout(0.25))\n",
    "\n",
    "model.add(Conv2D(128, (3, 3), activation='relu'))\n",
    "model.add(BatchNormalization())\n",
    "model.add(MaxPooling2D(pool_size=(2, 2)))\n",
    "model.add(Dropout(0.25))\n",
    "\n",
    "# Spłaszczenie\n",
    "model.add(Flatten())\n",
    "\n",
    "# Warstwy gęste z Dropout\n",
    "model.add(Dense(128, activation='relu'))\n",
    "model.add(Dropout(0.5))  # Zwiększenie Dropoutu w pełnych warstwach\n",
    "model.add(Dense(len(emotions), activation='softmax'))  # Wyjście: liczba emocji\n",
    "\n",
    "# Kompilowanie modelu z innymi parametrami\n",
    "model.compile(optimizer=Adam(learning_rate=0.0001), loss='categorical_crossentropy', metrics=['accuracy'])\n",
    "\n",
    "# Trenowanie modelu\n",
    "history = model.fit(train_data, train_labels, epochs=30, batch_size=32, validation_data=(val_data, val_labels))\n",
    "\n",
    "# Ocena modelu\n",
    "val_loss, val_accuracy = model.evaluate(val_data, val_labels)\n",
    "print(f\"Validation Loss: {val_loss}\")\n",
    "print(f\"Validation Accuracy: {val_accuracy}\")\n",
    "\n",
    "# Zapisanie modelu\n",
    "model.save(\"emotion_recognition_model.keras\")"
   ]
  },
  {
   "cell_type": "markdown",
   "metadata": {},
   "source": [
    "## Wczytanie modelu i funkcja predict_emotion"
   ]
  },
  {
   "cell_type": "code",
   "execution_count": 98,
   "metadata": {},
   "outputs": [],
   "source": [
    "# Wczytanie zapisanego modelu\n",
    "model = load_model(\"emotion_recognition_model.keras\")\n",
    "\n",
    "def predict_emotion(frame):\n",
    "    gray = cv2.cvtColor(frame, cv2.COLOR_BGR2GRAY)  # Przekształcanie obrazu na skalę szarości\n",
    "    face_cascade = cv2.CascadeClassifier(cv2.data.haarcascades + 'haarcascade_frontalface_default.xml')  # Ładowanie klasyfikatora twarzy\n",
    "    \n",
    "    # Zwiększenie wartości scaleFactor i minNeighbors, aby zmniejszyć fałszywe wykrycia\n",
    "    faces = face_cascade.detectMultiScale(gray, scaleFactor=1.2, minNeighbors=4, minSize=(30, 30))  # Wykrywanie twarzy\n",
    "    \n",
    "    for (x, y, w, h) in faces:\n",
    "        face = frame[y:y+h, x:x+w]  # Wycinanie twarzy\n",
    "        face = cv2.cvtColor(face, cv2.COLOR_BGR2GRAY)  # Konwertowanie twarzy na skalę szarości\n",
    "        face = cv2.resize(face, (pic_size, pic_size))  # Zmiana rozmiaru twarzy\n",
    "        face = face.reshape(1, pic_size, pic_size, 1)  # Reshape twarzy do formatu (1, 48, 48, 1)\n",
    "        face = face / 255.0  # Normalizacja obrazu\n",
    "        \n",
    "        # Przewidywanie emocji\n",
    "        prediction = model.predict(face)\n",
    "        max_index = np.argmax(prediction[0])\n",
    "        emotion_predicted = emotions[max_index]\n",
    "        \n",
    "        # Wyświetlanie wyniku\n",
    "        cv2.putText(frame, emotion_predicted, (x, y - 10), cv2.FONT_HERSHEY_SIMPLEX, 1, (0, 255, 0), 2, cv2.LINE_AA)\n",
    "        cv2.rectangle(frame, (x, y), (x + w, y + h), (0, 255, 0), 2)\n",
    "    \n",
    "    return frame\n"
   ]
  },
  {
   "cell_type": "markdown",
   "metadata": {},
   "source": [
    "## confusion matrix of our predictions"
   ]
  },
  {
   "cell_type": "code",
   "execution_count": 99,
   "metadata": {},
   "outputs": [
    {
     "name": "stdout",
     "output_type": "stream",
     "text": [
      "\u001b[1m161/161\u001b[0m \u001b[32m━━━━━━━━━━━━━━━━━━━━\u001b[0m\u001b[37m\u001b[0m \u001b[1m1s\u001b[0m 6ms/step\n"
     ]
    },
    {
     "data": {
      "image/png": "[encoded data removed]",
      "text/plain": [
       "<Figure size 800x600 with 1 Axes>"
      ]
     },
     "metadata": {},
     "output_type": "display_data"
    }
   ],
   "source": [
    "# Importowanie dodatkowych bibliotek\n",
    "from sklearn.metrics import confusion_matrix\n",
    "import seaborn as sns\n",
    "import pandas as pd\n",
    "\n",
    "# Funkcja do obliczania macierzy pomyłek\n",
    "def plot_confusion_matrix(model, val_data, val_labels, emotions):\n",
    "    # Uzyskiwanie przewidywań\n",
    "    val_predictions = model.predict(val_data)\n",
    "    val_predictions = np.argmax(val_predictions, axis=1)  # Przewidywania w postaci indeksów\n",
    "\n",
    "    # Uzyskiwanie prawdziwych etykiet\n",
    "    val_labels = np.argmax(val_labels, axis=1)  # Konwersja one-hot encoding na indeksy\n",
    "\n",
    "    # Obliczanie macierzy pomyłek\n",
    "    cm = confusion_matrix(val_labels, val_predictions)\n",
    "\n",
    "    # Tworzenie DataFrame dla lepszej wizualizacji\n",
    "    cm_df = pd.DataFrame(cm, index=emotions, columns=emotions)\n",
    "\n",
    "    # Wizualizacja macierzy pomyłek\n",
    "    plt.figure(figsize=(8, 6))\n",
    "    sns.heatmap(cm_df, annot=True, fmt='d', cmap='Blues', cbar=False, annot_kws={\"size\": 12})\n",
    "    plt.title('Confusion Matrix')\n",
    "    plt.ylabel('True Label')\n",
    "    plt.xlabel('Predicted Label')\n",
    "    plt.show()\n",
    "\n",
    "# Wywołanie funkcji w celu wyświetlenia macierzy pomyłek\n",
    "plot_confusion_matrix(model, val_data, val_labels, emotions)\n"
   ]
  },
  {
   "cell_type": "markdown",
   "metadata": {},
   "source": [
    "## Uruchamianie kamery"
   ]
  },
  {
   "cell_type": "code",
   "execution_count": 101,
   "metadata": {},
   "outputs": [
    {
     "name": "stdout",
     "output_type": "stream",
     "text": [
      "[12/17 11:22:17.037663][info][1780248][Context.cpp:69] Context created with config: default config!\n",
      "[12/17 11:22:17.037716][info][1780248][Context.cpp:74] Context work_dir=/Users/kuba/Desktop/PROJEKT ML 2/AIEmotions\n",
      "[12/17 11:22:17.037722][info][1780248][Context.cpp:77] \t- SDK version: 1.9.4\n",
      "[12/17 11:22:17.037723][info][1780248][Context.cpp:78] \t- SDK stage version: main\n",
      "[12/17 11:22:17.037730][info][1780248][Context.cpp:82] get config EnumerateNetDevice:false\n",
      "[12/17 11:22:17.037732][info][1780248][MacPal.cpp:36] createObPal: create MacPal!\n",
      "[12/17 11:22:17.039607][info][1780248][MacPal.cpp:104] Create PollingDeviceWatcher!\n",
      "[12/17 11:22:17.039614][info][1780248][DeviceManager.cpp:15] Current found device(s): (0)\n",
      "[12/17 11:22:17.039621][info][1780248][Pipeline.cpp:15] Try to create pipeline with default device.\n",
      "[12/17 11:22:17.039624][warning][1780248][ObException.cpp:5] No device found, fail to create pipeline!\n",
      "[12/17 11:22:17.040957][info][1780248][Context.cpp:90] Context destroyed\n"
     ]
    },
    {
     "name": "stderr",
     "output_type": "stream",
     "text": [
      "OpenCV: AVFoundation didn't find any attached Video Input Devices!\n",
      "OpenCV: camera failed to properly initialize!\n",
      "[ WARN:0@1958.748] global cap.cpp:323 open VIDEOIO(OBSENSOR): raised unknown C++ exception!\n",
      "\n",
      "\n"
     ]
    }
   ],
   "source": [
    "# Uruchomienie kamery\n",
    "import time\n",
    "\n",
    "cap = cv2.VideoCapture(2)\n",
    "\n",
    "# Rozpoczęcie liczenia czasu\n",
    "start_time = time.time()\n",
    "\n",
    "while True:\n",
    "    ret, frame = cap.read()  # Odczytanie obrazu z kamery\n",
    "    if not ret:\n",
    "        break\n",
    "    \n",
    "    # Przewidywanie emocji na obrazie\n",
    "    frame = predict_emotion(frame)\n",
    "    \n",
    "    # Wyświetlanie obrazu z wykrytymi emocjami\n",
    "    cv2.imshow('Emotion Recognition', frame)\n",
    "    \n",
    "    # Sprawdzanie, czy upłynęło 60 sekund\n",
    "    elapsed_time = time.time() - start_time\n",
    "    if elapsed_time > 60:\n",
    "        break  # Przerwij po 60 sekundach\n",
    "\n",
    "    # Zatrzymanie kamery po naciśnięciu 'q'\n",
    "    if cv2.waitKey(1) & 0xFF == ord('q'):\n",
    "        break\n",
    "\n",
    "cap.release()  # Zwolnienie kamery\n",
    "cv2.destroyAllWindows()  # Zamykanie okien"
   ]
  }
 ],
 "metadata": {
  "kernelspec": {
   "display_name": "base",
   "language": "python",
   "name": "python3"
  },
  "language_info": {
   "codemirror_mode": {
    "name": "ipython",
    "version": 3
   },
   "file_extension": ".py",
   "mimetype": "text/x-python",
   "name": "python",
   "nbconvert_exporter": "python",
   "pygments_lexer": "ipython3",
   "version": "3.12.7"
  }
 },
 "nbformat": 4,
 "nbformat_minor": 2
}
